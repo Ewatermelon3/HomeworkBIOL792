{
 "cells": [
  {
   "cell_type": "markdown",
   "metadata": {},
   "source": [
    "# Jypyter Notebooks and Python Refresh Homework 3\n",
    "We are going to do the Python Refresh Homework in a juypyter Notebook. In this homework we will review the basic principles of python programming. You will work through a few questions and build some scripts. You will need the Bloom et al Dataset found in this repository. For each question add a cell to put your answer in either as a text cell or a code cell following the question.\n",
    "\n",
    "### Markdown\n",
    "Here is a [markdown refresh](https://programminghistorian.org/en/lessons/getting-started-with-markdown)\n",
    "\n",
    "### General concepts to refresh and lessons to review if you need them:\n",
    "\n",
    "Here is a nice [Python_Refresh](https://pythonforbiologists.com/introduction) that goes over the majority of the basic python commands.\n",
    "\n",
    "Remember these Primers from Last Semester\n",
    "\n",
    "[Python_Primer1](https://github.com/tparchman/BIOL792_course_site/blob/master/week6_pythonI/python_1_primer.md) \n",
    "\n",
    "[Lists_for_loops](https://github.com/tparchman/BIOL792_course_site/blob/master/week7_pythonII/python_2_primer.md)\n",
    "\n",
    "[Input_Output](https://github.com/tparchman/BIOL792_course_site/blob/master/week8_python3/python_3_primer.md)\n",
    "\n",
    "[Dictionaries](https://github.com/tparchman/BIOL792_course_site/blob/master/week11_python6/primer_python6.md)\n",
    "\n",
    "\n",
    "### Remember these Common commands as you work through this exercise\n",
    "\tdata types\n",
    "\tlists and dictionaries \n",
    "\tif while and for loops\n",
    "\treading files\n",
    "\n"
   ]
  },
  {
   "cell_type": "markdown",
   "metadata": {},
   "source": [
    "## Part I: Questions"
   ]
  },
  {
   "cell_type": "markdown",
   "metadata": {},
   "source": [
    "1.\tName one of the basic building blocks of programming and a small definition."
   ]
  },
  {
   "cell_type": "markdown",
   "metadata": {},
   "source": [
    "Input and Output are one of the basic building blocks. Input sends information to the programs to be analyzed, and output is what is returned to us- information that was processed and now can be used. "
   ]
  },
  {
   "cell_type": "markdown",
   "metadata": {},
   "source": []
  },
  {
   "cell_type": "markdown",
   "metadata": {},
   "source": [
    " _Markdown_ LatTeX: 𝛼2"
   ]
  },
  {
   "cell_type": "markdown",
   "metadata": {},
   "source": [
    "\n",
    "\n",
    "2.\tMatch the data type to the appropriate data\n",
    "    \n",
    "    **Data type:** string, integer, boolean, floating point\n",
    "    \n",
    "    **Data:** true, 123, 'I am a programmer', 34.63221\n"
   ]
  },
  {
   "cell_type": "markdown",
   "metadata": {},
   "source": [
    "123 is an integer, 34.63221 is a floating point, true is a boolean, and 'I am a programmer' is a string."
   ]
  },
  {
   "cell_type": "markdown",
   "metadata": {},
   "source": [
    "3.\tWhat would I get if I did tried to add these to numbers together ```123``` and ```5```.\n",
    "\t\t\n",
    "\t\ta) if the numbers were formatted as strings\n",
    "\t\t\n",
    "\t\tb) if they were formatted as integers"
   ]
  },
  {
   "cell_type": "code",
   "execution_count": 61,
   "metadata": {},
   "outputs": [
    {
     "name": "stdout",
     "output_type": "stream",
     "text": [
      "128\n",
      "1235\n"
     ]
    }
   ],
   "source": [
    "###a\n",
    "# I am creating two sets of integers to be added together\n",
    "x = 123\n",
    "y = 5\n",
    "###b\n",
    "# I am creating two sets of strings to be added together. Strings are created using quotation marks.\n",
    "a = \"123\"\n",
    "b = \"5\"\n",
    "# I am using \"print\" to show the answers to these additions.\n",
    "print (x+y)\n",
    "print (a+b)"
   ]
  },
  {
   "cell_type": "markdown",
   "metadata": {},
   "source": [
    "If the numbers were formatted as a string, the numbers would be combined together as a continuous string. The example shows us that 5 is added to the end of 123 to create 1235, which is not true addition. They are treated as words. With the integers, 123 and 5 are added together in a correct mathematical way, giving us the answer of 128. They are treated as true intergers."
   ]
  },
  {
   "cell_type": "markdown",
   "metadata": {},
   "source": [
    "4.\tLists, also called vectors, are one dimensional arrays and are a series of items. From the following list what would the question ```apple_list[3]``` return?  Remember we refer to items in a list by their position. Hint – remember how computers count.\n",
    "\t\t\n",
    "\t\t```apple_list=[‘banana’,’pear’,’kumquat’,’pomegranate’,’passion fruit’]```"
   ]
  },
  {
   "cell_type": "code",
   "execution_count": 2,
   "metadata": {},
   "outputs": [
    {
     "name": "stdout",
     "output_type": "stream",
     "text": [
      "pomegranate\n"
     ]
    }
   ],
   "source": [
    "# I am creating a list of fruits\n",
    "apple_list = ['banana', 'pear', 'kumquat', 'pomegranate', 'passion fruit']\n",
    "# I am having python show on the screen the answer to the [3] fruit on the list\n",
    "print (apple_list[3])"
   ]
  },
  {
   "cell_type": "markdown",
   "metadata": {},
   "source": [
    "This question is asking is what fruit is in the [3] position. Intuitively, we would think that this is asking us for the 3rd position, or kumquat. But this is not the case. Computers start counting at 0, and so the [3] position is actually the 4th position. The answer is pomegranate."
   ]
  },
  {
   "cell_type": "markdown",
   "metadata": {},
   "source": [
    "5.\tName a difference between lists and dictionaries?"
   ]
  },
  {
   "cell_type": "markdown",
   "metadata": {},
   "source": [
    "Lists are ordered items that are not integers. They are ordered, and always start with 0 as the location of the first item. Dictionaries store paired items, and it is unordered, meaning the order of a dictionary doesn't matter. Each item in a dictionary contains a key, and items are looked up by their keys, making it much easier to look them up than lists."
   ]
  },
  {
   "cell_type": "markdown",
   "metadata": {},
   "source": [
    "6.\tWhat would you get from this question from the following dictionary:  ```fruit_dict[‘pear’]```\n",
    "```\t\t\n",
    "\t\tfruit_dict = {}\n",
    "\t\tfruit_dict[‘apple’]=10\n",
    "\t\tfruit_dict[‘pear’] = 3\n",
    "\t\tfruit_dict[‘walnut’]=216\n",
    "```\n",
    "or in another way\n",
    "\n",
    "\n",
    "```\n",
    "fruit_dict = {\n",
    "    'apple':10,\n",
    "    'pear':3,\n",
    "    'walnut':216,\n",
    "}\n",
    "\n",
    "print(fruit_dict)\n",
    "```\n",
    "\n"
   ]
  },
  {
   "cell_type": "code",
   "execution_count": 3,
   "metadata": {},
   "outputs": [
    {
     "name": "stdout",
     "output_type": "stream",
     "text": [
      "{'apple': 10, 'pear': 3, 'walnut': 216, 'watermelon': 33}\n",
      "Pear: 3\n"
     ]
    }
   ],
   "source": [
    "#First, I am creating a dictionary with fruits.\n",
    "#I am leaving the dictionary open \"{}\" so that I can continue to add more items. \n",
    "fruit_dict = {}\n",
    "#I am adding three fruits or items. Each key has its own value.\n",
    "fruit_dict[\"apple\"]=10\n",
    "fruit_dict[\"pear\"] = 3\n",
    "fruit_dict[\"walnut\"]=216\n",
    "fruit_dict[\"watermelon\"]=33\n",
    "#Now I am having python show on the screen the full dictionary- items' value and associated keys.\n",
    "print(fruit_dict)\n",
    "\n",
    "#To see a specific item's value, I am having python show to screen the value of \"pear\".\n",
    "#I am also adding a label so that I understand what is being shown. \n",
    "print(\"Pear:\", fruit_dict[\"pear\"])"
   ]
  },
  {
   "cell_type": "markdown",
   "metadata": {},
   "source": [
    "7.\tIn python what does the function ```.replace()``` do?"
   ]
  },
  {
   "cell_type": "markdown",
   "metadata": {},
   "source": [
    ".replace() would replace every item that we want to replce in the original string to a new item that we listed for it. "
   ]
  },
  {
   "cell_type": "code",
   "execution_count": 62,
   "metadata": {},
   "outputs": [
    {
     "name": "stdout",
     "output_type": "stream",
     "text": [
      "I like dogs\n"
     ]
    }
   ],
   "source": [
    "# Example for .replace\n",
    "txt = \"I like cats\"\n",
    "\n",
    "x = txt.replace(\"cats\", \"dogs\")\n",
    "\n",
    "print(x)"
   ]
  },
  {
   "cell_type": "markdown",
   "metadata": {},
   "source": [
    "8.\tHow do you print something in python?  For example write a print statement to print “hello world!”"
   ]
  },
  {
   "cell_type": "code",
   "execution_count": 4,
   "metadata": {},
   "outputs": [
    {
     "name": "stdout",
     "output_type": "stream",
     "text": [
      "Hello world!\n"
     ]
    }
   ],
   "source": [
    "#I am showing to screen the phrase \"Hello world!\" using the \"print\" function. \n",
    "print (\"Hello world!\")"
   ]
  },
  {
   "cell_type": "markdown",
   "metadata": {},
   "source": [
    "9.\tName one place you can go to get help with python?"
   ]
  },
  {
   "cell_type": "markdown",
   "metadata": {},
   "source": [
    "Our book, Practical Computing for Biologists. Or online resources!"
   ]
  },
  {
   "cell_type": "markdown",
   "metadata": {},
   "source": [
    "10.\tWhat is an ```if``` statement and when would you use one?"
   ]
  },
  {
   "cell_type": "markdown",
   "metadata": {},
   "source": [
    "We can think of \"if\" as a decision maker. It can evalute whether a code that we run is one thing or another, and it can be thought of as a fork in the decision process."
   ]
  },
  {
   "cell_type": "markdown",
   "metadata": {},
   "source": [
    "11.\tFrom this list:  ```container_list = [‘can’,’jar’,’hat’]``` What would be returned from this: ```container_list[0:2]```.  Hint: Remember one number is inclusive and one exclusive."
   ]
  },
  {
   "cell_type": "code",
   "execution_count": 5,
   "metadata": {},
   "outputs": [
    {
     "data": {
      "text/plain": [
       "['can', 'jar']"
      ]
     },
     "execution_count": 5,
     "metadata": {},
     "output_type": "execute_result"
    }
   ],
   "source": [
    "#I am creating a list of items that are containers.\n",
    "container_list = [\"can\",\"jar\",\"hat\"]\n",
    "#I am having it show to screen the output of [0:2].\n",
    "#This shows the items from position 0 to 1, exluding position 2 and beyond. \n",
    "container_list[0:2]\n",
    "\n",
    "#I am creating another list to practice with. \n",
    "#pet_list = [\"cat\", \"dog\", \"bird\", \"snake\", \"guinea pig\", \"horse\"]\n",
    "#pet_list[3:5]"
   ]
  },
  {
   "cell_type": "markdown",
   "metadata": {},
   "source": [
    "12.\tWhat is the difference between an ```if``` statement and a ```while``` loop?\n"
   ]
  },
  {
   "cell_type": "markdown",
   "metadata": {},
   "source": [
    "An if statement will run though the code finish its execution one it reaches the answer/destination. A while loop will continue until a condition is met. "
   ]
  },
  {
   "cell_type": "markdown",
   "metadata": {},
   "source": [
    "13.\tWhat would you get with the command ```fruit_dict.keys()```  after entering this dictionary:  \n",
    "\t\tfruit_dict = {}\n",
    "\t\tfruit_dict[‘apple’]=10\n",
    "\t\tfruit_dict[‘pear’] = 3\n",
    "\t\tfruit_dict[‘walnut’]=216"
   ]
  },
  {
   "cell_type": "code",
   "execution_count": 63,
   "metadata": {},
   "outputs": [
    {
     "data": {
      "text/plain": [
       "dict_keys(['apple', 'pear', 'walnut', 'watermelon'])"
      ]
     },
     "execution_count": 63,
     "metadata": {},
     "output_type": "execute_result"
    }
   ],
   "source": [
    "fruit_dict.keys()"
   ]
  },
  {
   "cell_type": "markdown",
   "metadata": {},
   "source": [
    "14.\tIn this statement: ```InFileName = open(InFileName, ‘r’)``` what does the ‘r’ indicate ?"
   ]
  },
  {
   "cell_type": "markdown",
   "metadata": {},
   "source": [
    "It indicated that it can be read for the code. It stands for \"raw strings\"."
   ]
  },
  {
   "cell_type": "markdown",
   "metadata": {},
   "source": [
    "15.\tWhat does this command do? ```Line.strip(‘\\n’)``` why would you use it when printing out lines to the screen?"
   ]
  },
  {
   "cell_type": "markdown",
   "metadata": {},
   "source": [
    "This removes the line endings. This will help us to read the outfile files in a clearer format."
   ]
  },
  {
   "cell_type": "markdown",
   "metadata": {},
   "source": [
    "16.\tHow would you split a line from a csv file into a list"
   ]
  },
  {
   "cell_type": "code",
   "execution_count": 65,
   "metadata": {},
   "outputs": [
    {
     "name": "stdout",
     "output_type": "stream",
     "text": [
      "[['\\ufefftaxa,logbodysize,trophic_position,Reg'], ['Alosa_alabamae,1.707570176,0.431363764,diadromous'], ['Alosa_alosa,1.77815125,0.556302501,diadromous'], ['Alosa_fallax,1.77815125,0.556302501,diadromous'], ['Alosa_mediocris,1.77815125,0.612783857,diadromous'], ['Alosa_pseudoharengus,1.602059991,0.544068044,diadromous'], ['Alosa_sapidissima,1.790285164,0.544068044,diadromous'], ['Amazonsprattus_scintilla,0.301029996,0.531478917,non-diadromous'], ['Anchoa_chamensis,0.77815125,0.51851394,non-diadromous'], ['Anchoa_cubana,0.84509804,0.51851394,non-diadromous'], ['Anchoa_delicatissima,0.903089987,0.51851394,non-diadromous'], ['Anchoa_lamprotaenia,0.963787827,0.531478917,non-diadromous'], ['Anchoa_lyolepis,0.84509804,0.531478917,non-diadromous'], ['Anchoa_parva,0.77815125,0.51851394,non-diadromous'], ['Anchoa_schofieldi,0.792391689,0.51851394,non-diadromous'], ['Anchovia_surinamensis,1.093421685,0.477121255,non-diadromous'], ['Anchoviella_balboae,0.857332496,0.505149978,non-diadromous'], ['Anchoviella_brevirostris,0.857332496,0.505149978,non-diadromous'], ['Anchoviella_jamesi,0.698970004,0.491361694,non-diadromous'], ['Anchoviella_lepidentostole,1.064457989,0.491361694,diadromous'], ['Anchoviella_manamensis,0.397940009,0.491361694,non-diadromous'], ['Anodontostoma_chacunda,1.342422681,0.447158031,diadromous'], ['Cetengraulis_edentulus,1.113943352,0.322219295,non-diadromous'], ['Chirocentrodon_bleekerianus,0.954242509,0.51851394,non-diadromous'], ['Clupeichthys_perakensis,0.602059991,0.477121255,non-diadromous'], ['Clupeoides_borneensis,0.903089987,0.491361694,non-diadromous'], ['Coilia_nasus,1.544068044,0.477121255,diadromous'], ['Ehirava_fluviatilis,0.698970004,0.491361694,non-diadromous'], ['Encrasicholina_devisi,0.903089987,0.51851394,non-diadromous'], ['Engraulis_eurystole,1.190331698,0.462397998,non-diadromous'], ['Escualosa_thoracata,1,0.505149978,non-diadromous'], ['Ethmalosa_fimbriata,1.544068044,0.397940009,diadromous'], ['Gilchristella_aestuaria,1,0.491361694,non-diadromous'], ['Hilsa_kelee,1.387389826,0.462397998,diadromous'], ['Hyperlophus_vittatus,1,0.531478917,non-diadromous'], ['Jenkinsia_lamprotaenia,0.838849091,0.51851394,non-diadromous'], ['Microthrissa_congica,0.77815125,0.491361694,non-diadromous'], ['Pellona_harroweri,1.113943352,0.62324929,non-diadromous'], ['Pellonula_leonensis,0.929418926,0.51851394,diadromous'], ['Pellonula_vorax,1.079181246,0.491361694,diadromous'], ['Potamalosa_richmondia,1.505149978,0.51851394,diadromous'], ['Ramnogaster_sp,0.903089987,0.531478917,non-diadromous'], ['Rhinosardinia_bahiensis,0.903089987,0.531478917,non-diadromous'], ['Sauvagella_robusta,0.672097858,0.491361694,non-diadromous'], ['Sierrathrissa_leonensis,0.477121255,0.491361694,non-diadromous'], ['Spratelloides_delicatulus,0.84509804,0.491361694,non-diadromous'], ['Stolephorus_waitei,0.973127854,0.51851394,non-diadromous'], ['Stolothrissa_tanganicae,1,0.431363764,non-diadromous'], ['Sundasalanx_mekongensis,0.447158031,0.491361694,non-diadromous'], ['Tenualosa_ilisha,1.77815125,0.462397998,diadromous'], ['Thryssa_cf_dussumieri,1.041392685,0.447158031,non-diadromous']]\n"
     ]
    }
   ],
   "source": [
    "import csv # I am importing the csv function\n",
    "\n",
    "f= open('Bloom_etal_2018_Reduced_Dataset.csv') #Opening the file\n",
    "\n",
    "data = [] #initializing this \"data\" to put the output into.\n",
    "for line in f: #creating a for loop\n",
    "    data_line = line.rstrip().split('\\t') #removing the tab delimination, and splitting each line.\n",
    "    data.append(data_line) #Adding this new additon to data. \n",
    "print (data) #Having the output be shown on the screen. "
   ]
  },
  {
   "cell_type": "markdown",
   "metadata": {},
   "source": [
    "## Part II:  Practice Scripts\n",
    "Below each question write the name of the script so I can find them. All scripts should be documented with in-line documentation."
   ]
  },
  {
   "cell_type": "markdown",
   "metadata": {},
   "source": [
    "1.\tCreate a documented python script that would \n",
    "\n",
    "\t\t**a.** take this number 112345678911234566 and count the number of 2s in the string and print out the number. \n",
    "\n",
    "\t\t**b.** take a sentence from user input, turn it all to lowercase letters and remove the spaces and count the length and print out the length.  You choose the sentence. \n"
   ]
  },
  {
   "cell_type": "code",
   "execution_count": 6,
   "metadata": {},
   "outputs": [
    {
     "name": "stdout",
     "output_type": "stream",
     "text": [
      "The count of 2 is: 2\n",
      "hellomynameisellenwilsonandilikecats.\n",
      "37\n"
     ]
    }
   ],
   "source": [
    "###a.\n",
    "#I created a string with the numbers provided.\n",
    "#I made sure to add quotation marks to make it a string.\n",
    "string1 = (\"112345678911234566\")\n",
    "\n",
    "#To count the number of 2s, I had to create a new item \"string_count1\"\n",
    "#I then used the .count function on our original string.\n",
    "\n",
    "string_count1 = string1.count(\"2\")\n",
    "#I had the program show the answer to the screen.\n",
    "print(\"The count of 2 is:\", string_count1)\n",
    "\n",
    "###b.\n",
    "#I am creating a sentence with capital letters and spaces.\n",
    "sentence1 = (\"Hello my name is Ellen Wilson and I like cats.\")\n",
    "\n",
    "#Now I am removing the capital letters by using the .lower function. \n",
    "sentence_lower = sentence1.lower()\n",
    "\n",
    "#Now I am removing the spaces from the updated sentence, sentence_lower.\n",
    "#I used the replace function to replace a space with no space.\n",
    "sentence_spacefree = sentence_lower.replace(\" \", \"\")\n",
    "\n",
    "#I am printing out this sentence to see if it works. \n",
    "print(sentence_spacefree)\n",
    "\n",
    "#Finally, I am printing the length of sentence_spacefree.\n",
    "#I am using the function \"len\" to count all characters in my string.\n",
    "#I had to be sure to put parantheses around len, otherwise it didn't work. \n",
    "print (len(sentence_spacefree))\n"
   ]
  },
  {
   "cell_type": "markdown",
   "metadata": {},
   "source": [
    "2.\tCreate a documented python script that will do the following two things. For each task, first write the pseudocode, comment out the pseudocode and beneath the pseudocode write the script.\n",
    "\n",
    "\t\t**a.** Create a list of numbers (any numbers you like). Then loop through the items in the list adding 1 to every number and print those numbers.\n",
    "\n",
    "\t\t**b.** Create a dictionary of animals and their sizes (make up whatever you want). Print out the keys of the dictionary. Make a list of all the animals and then write an if else statement to print out the animal name and the word “big” if the weight is over 20 grams and the word “small” if the weight is less than 20 grams. "
   ]
  },
  {
   "cell_type": "markdown",
   "metadata": {},
   "source": [
    "Pseudocode A.\n",
    "First, I will create a list of integers. I will choose to do odd numbers. I will name the list \"lista\" and the numbers will be a, 3, 5, 7, 9, 11, 13, 15, 17, 19, 21.\n",
    "\n",
    "Next I will create another integer. This means that I will give another integer outside of my list a value and then I can add this value to my other values. I will call my integer A, and give it a value of 1.\n",
    "\n",
    "Now I am creating another list, with a formula that will add the newly added A to each number in my list (or x) in my lista. I will call this listb.\n",
    "\n",
    "Then I will show the contents of listb with the updated addition to each integer to the screen. I will do this by using the print function. I will also add a statement that says \"Adding 1:\" so that I will be able to understand what I did. \n",
    "\n",
    "Now I will do that same process again for pratice. I will create another integer B that will have the value of 5. Then I will add this to lista and create a new list (listc), and print the output to the screen. \n",
    "\n",
    "\n",
    "Pseudocode B. \n",
    "First, I will initialize an open dictionary. I am calling it wildlife_dict and I will initialize it with open curly brackets. This way, I will be able to add more items to the dictionary. \n",
    "\n",
    "Next, I will add 6 items to the dictionary. I will do it by stating the dictionary name, then putting a key in quotation marks inside brackets, and then giving it a value. Ex. \"wildlife_dict[\"elephant\"]= 5000000\". I will give six varying keys and values. \n",
    "\n",
    "Now I am printing just the keys to the screen. I will do this by using the print function, then the dictionary and then .keys after, with an open parentheses. This will print all the keys in my wildlife dictionary. \n",
    "\n",
    "Next, I will make a list of all the animals and then write an if else statement to print out the animal name and the word “big” if the weight is over 20 grams and the word “small” if the weight is less than 20 grams.\n",
    "\n",
    "I will do this by creating a for loop that will go through each key and value in my dictionary. I will have it print to screen the key and whether that is big or small. "
   ]
  },
  {
   "cell_type": "code",
   "execution_count": 35,
   "metadata": {},
   "outputs": [
    {
     "name": "stdout",
     "output_type": "stream",
     "text": [
      "Adding 1: [2, 4, 6, 8, 10, 12, 14, 16, 18, 20, 22]\n",
      "Adding 5: [6, 8, 10, 12, 14, 16, 18, 20, 22, 24, 26]\n",
      "{'elephant': 5000000, 'hummingbird': 3, 'kangaroo mouse': 17, 'capybara': 66000, 'rainbow trout': 300, 'Pacific tree frog': 0.35}\n",
      "dict_keys(['elephant', 'hummingbird', 'kangaroo mouse', 'capybara', 'rainbow trout', 'Pacific tree frog'])\n",
      "elephant : big\n",
      "hummingbird : small\n",
      "kangaroo mouse : small\n",
      "capybara : big\n",
      "rainbow trout : big\n",
      "Pacific tree frog : small\n"
     ]
    }
   ],
   "source": [
    "###a.\n",
    "#I first created a list of odd numbers.\n",
    "lista = (1, 3, 5, 7, 9, 11, 13, 15, 17, 19, 21)\n",
    "\n",
    "#Next, I had to initialize another integer, which I called A.\n",
    "#I gave A the value of 1.\n",
    "A = 1\n",
    "#I created another list (listb) and gave it the formula listed below.\n",
    "#x is for any integer in the list, and we are adding each one to A, which has the value of 1.\n",
    "\n",
    "listb = [x + A for x in lista]\n",
    "#Now I am printing the results to the screen. We can see that 1 was added to each integar in my list.\n",
    "print (\"Adding 1:\", listb)\n",
    "\n",
    "#I wanted to try this again, but with a different integer to see if it worked.\n",
    "B = 5\n",
    "listc = [x + B for x in lista]\n",
    "print (\"Adding 5:\", listc)\n",
    "\n",
    "\n",
    "###b.\n",
    "#I am creating a wildlife dictionary with animals and thier weight in grams.\n",
    "#I am initinalizing this dictionary and leaving it open so I can add on to it later.\n",
    "wildlife_dict = {}\n",
    "wildlife_dict[\"elephant\"]= 5000000\n",
    "wildlife_dict[\"hummingbird\"]= 3\n",
    "wildlife_dict[\"kangaroo mouse\"]= 17\n",
    "wildlife_dict[\"capybara\"]= 66000\n",
    "wildlife_dict[\"rainbow trout\"] = 300\n",
    "wildlife_dict[\"Pacific tree frog\"] = 0.35\n",
    "\n",
    "print(wildlife_dict)\n",
    "\n",
    "#I am printing only the keys of the dictionary using the .key function.\n",
    "#I am having the output be put on the screen.\n",
    "print(wildlife_dict.keys())\n",
    "\n",
    "\n",
    "for key, value in wildlife_dict.items(): #I am creating a for loop for the keys and values in my dictionary.\n",
    "    if value > 20: #If the value is bigger than 20, I will have it print the key and \"big\".\n",
    "        print(key, \":\", \"big\")\n",
    "    else: #If the value is smaller than 20, I will have it print the key and \"small\".\n",
    "        print(key, \":\", \"small\")"
   ]
  },
  {
   "cell_type": "markdown",
   "metadata": {},
   "source": [
    "3.\tCreate a documented python script that will open up the file “Bloom_etal_2018_Reduced_Dataset”.  Read through the file and print out the taxon name and their diadromous status. Add up all of the log body sizes and print out the total log body size for all the individuals in the file.  "
   ]
  },
  {
   "cell_type": "code",
   "execution_count": 66,
   "metadata": {},
   "outputs": [
    {
     "name": "stdout",
     "output_type": "stream",
     "text": [
      "﻿taxa,logbodysize,trophic_position,Reg\n",
      "Alosa_alabamae,1.707570176,0.431363764,diadromous\n",
      "Alosa_alosa,1.77815125,0.556302501,diadromous\n",
      "Alosa_fallax,1.77815125,0.556302501,diadromous\n",
      "Alosa_mediocris,1.77815125,0.612783857,diadromous\n",
      "Alosa_pseudoharengus,1.602059991,0.544068044,diadromous\n",
      "Alosa_sapidissima,1.790285164,0.544068044,diadromous\n",
      "Amazonsprattus_scintilla,0.301029996,0.531478917,non-diadromous\n",
      "Anchoa_chamensis,0.77815125,0.51851394,non-diadromous\n",
      "Anchoa_cubana,0.84509804,0.51851394,non-diadromous\n",
      "Anchoa_delicatissima,0.903089987,0.51851394,non-diadromous\n",
      "Anchoa_lamprotaenia,0.963787827,0.531478917,non-diadromous\n",
      "Anchoa_lyolepis,0.84509804,0.531478917,non-diadromous\n",
      "Anchoa_parva,0.77815125,0.51851394,non-diadromous\n",
      "Anchoa_schofieldi,0.792391689,0.51851394,non-diadromous\n",
      "Anchovia_surinamensis,1.093421685,0.477121255,non-diadromous\n",
      "Anchoviella_balboae,0.857332496,0.505149978,non-diadromous\n",
      "Anchoviella_brevirostris,0.857332496,0.505149978,non-diadromous\n",
      "Anchoviella_jamesi,0.698970004,0.491361694,non-diadromous\n",
      "Anchoviella_lepidentostole,1.064457989,0.491361694,diadromous\n",
      "Anchoviella_manamensis,0.397940009,0.491361694,non-diadromous\n",
      "Anodontostoma_chacunda,1.342422681,0.447158031,diadromous\n",
      "Cetengraulis_edentulus,1.113943352,0.322219295,non-diadromous\n",
      "Chirocentrodon_bleekerianus,0.954242509,0.51851394,non-diadromous\n",
      "Clupeichthys_perakensis,0.602059991,0.477121255,non-diadromous\n",
      "Clupeoides_borneensis,0.903089987,0.491361694,non-diadromous\n",
      "Coilia_nasus,1.544068044,0.477121255,diadromous\n",
      "Ehirava_fluviatilis,0.698970004,0.491361694,non-diadromous\n",
      "Encrasicholina_devisi,0.903089987,0.51851394,non-diadromous\n",
      "Engraulis_eurystole,1.190331698,0.462397998,non-diadromous\n",
      "Escualosa_thoracata,1,0.505149978,non-diadromous\n",
      "Ethmalosa_fimbriata,1.544068044,0.397940009,diadromous\n",
      "Gilchristella_aestuaria,1,0.491361694,non-diadromous\n",
      "Hilsa_kelee,1.387389826,0.462397998,diadromous\n",
      "Hyperlophus_vittatus,1,0.531478917,non-diadromous\n",
      "Jenkinsia_lamprotaenia,0.838849091,0.51851394,non-diadromous\n",
      "Microthrissa_congica,0.77815125,0.491361694,non-diadromous\n",
      "Pellona_harroweri,1.113943352,0.62324929,non-diadromous\n",
      "Pellonula_leonensis,0.929418926,0.51851394,diadromous\n",
      "Pellonula_vorax,1.079181246,0.491361694,diadromous\n",
      "Potamalosa_richmondia,1.505149978,0.51851394,diadromous\n",
      "Ramnogaster_sp,0.903089987,0.531478917,non-diadromous\n",
      "Rhinosardinia_bahiensis,0.903089987,0.531478917,non-diadromous\n",
      "Sauvagella_robusta,0.672097858,0.491361694,non-diadromous\n",
      "Sierrathrissa_leonensis,0.477121255,0.491361694,non-diadromous\n",
      "Spratelloides_delicatulus,0.84509804,0.491361694,non-diadromous\n",
      "Stolephorus_waitei,0.973127854,0.51851394,non-diadromous\n",
      "Stolothrissa_tanganicae,1,0.431363764,non-diadromous\n",
      "Sundasalanx_mekongensis,0.447158031,0.491361694,non-diadromous\n",
      "Tenualosa_ilisha,1.77815125,0.462397998,diadromous\n",
      "Thryssa_cf_dussumieri,1.041392685,0.447158031,non-diadromous\n"
     ]
    }
   ],
   "source": [
    "#First, I am opening the file and adding \"r\"\n",
    "f = open(\"Bloom_etal_2018_Reduced_Dataset.csv\", \"r\")\n",
    "#I am showing the file content just to see what's inside. \n",
    "print(f.read())"
   ]
  },
  {
   "cell_type": "code",
   "execution_count": 68,
   "metadata": {},
   "outputs": [
    {
     "name": "stdout",
     "output_type": "stream",
     "text": [
      "[('\\ufefftaxa', 'Reg'), ('Alosa_alabamae', 'diadromous'), ('Alosa_alosa', 'diadromous'), ('Alosa_fallax', 'diadromous'), ('Alosa_mediocris', 'diadromous'), ('Alosa_pseudoharengus', 'diadromous'), ('Alosa_sapidissima', 'diadromous'), ('Amazonsprattus_scintilla', 'non-diadromous'), ('Anchoa_chamensis', 'non-diadromous'), ('Anchoa_cubana', 'non-diadromous'), ('Anchoa_delicatissima', 'non-diadromous'), ('Anchoa_lamprotaenia', 'non-diadromous'), ('Anchoa_lyolepis', 'non-diadromous'), ('Anchoa_parva', 'non-diadromous'), ('Anchoa_schofieldi', 'non-diadromous'), ('Anchovia_surinamensis', 'non-diadromous'), ('Anchoviella_balboae', 'non-diadromous'), ('Anchoviella_brevirostris', 'non-diadromous'), ('Anchoviella_jamesi', 'non-diadromous'), ('Anchoviella_lepidentostole', 'diadromous'), ('Anchoviella_manamensis', 'non-diadromous'), ('Anodontostoma_chacunda', 'diadromous'), ('Cetengraulis_edentulus', 'non-diadromous'), ('Chirocentrodon_bleekerianus', 'non-diadromous'), ('Clupeichthys_perakensis', 'non-diadromous'), ('Clupeoides_borneensis', 'non-diadromous'), ('Coilia_nasus', 'diadromous'), ('Ehirava_fluviatilis', 'non-diadromous'), ('Encrasicholina_devisi', 'non-diadromous'), ('Engraulis_eurystole', 'non-diadromous'), ('Escualosa_thoracata', 'non-diadromous'), ('Ethmalosa_fimbriata', 'diadromous'), ('Gilchristella_aestuaria', 'non-diadromous'), ('Hilsa_kelee', 'diadromous'), ('Hyperlophus_vittatus', 'non-diadromous'), ('Jenkinsia_lamprotaenia', 'non-diadromous'), ('Microthrissa_congica', 'non-diadromous'), ('Pellona_harroweri', 'non-diadromous'), ('Pellonula_leonensis', 'diadromous'), ('Pellonula_vorax', 'diadromous'), ('Potamalosa_richmondia', 'diadromous'), ('Ramnogaster_sp', 'non-diadromous'), ('Rhinosardinia_bahiensis', 'non-diadromous'), ('Sauvagella_robusta', 'non-diadromous'), ('Sierrathrissa_leonensis', 'non-diadromous'), ('Spratelloides_delicatulus', 'non-diadromous'), ('Stolephorus_waitei', 'non-diadromous'), ('Stolothrissa_tanganicae', 'non-diadromous'), ('Sundasalanx_mekongensis', 'non-diadromous'), ('Tenualosa_ilisha', 'diadromous'), ('Thryssa_cf_dussumieri', 'non-diadromous')]\n"
     ]
    }
   ],
   "source": [
    "import csv #I am importing the csv function\n",
    "\n",
    "Bloom = [] #Initializing an open function for the data loop to run through.\n",
    "f= open('Bloom_etal_2018_Reduced_Dataset.csv', 'r') #opening the file, adding 'r'.\n",
    "for line in f: #creating a for loop, having it go through each loop\n",
    "    line = line.strip ('\\n') #getting rid of the line endings for an easier read.\n",
    "    cells = line.split(\",\") #splitting the items up by the commas, so each will be listed as thier own item.\n",
    "    Bloom.append( (cells[0], cells[3])) #I am having only column 1 and 4 be added to the output.\n",
    "print(Bloom) # I am having the output be shown to the screen"
   ]
  },
  {
   "cell_type": "code",
   "execution_count": 69,
   "metadata": {},
   "outputs": [
    {
     "name": "stdout",
     "output_type": "stream",
     "text": [
      "['logbodysize', '1.707570176', '1.77815125', '1.77815125', '1.77815125', '1.602059991', '1.790285164', '0.301029996', '0.77815125', '0.84509804', '0.903089987', '0.963787827', '0.84509804', '0.77815125', '0.792391689', '1.093421685', '0.857332496', '0.857332496', '0.698970004', '1.064457989', '0.397940009', '1.342422681', '1.113943352', '0.954242509', '0.602059991', '0.903089987', '1.544068044', '0.698970004', '0.903089987', '1.190331698', '1', '1.544068044', '1', '1.387389826', '1', '0.838849091', '0.77815125', '1.113943352', '0.929418926', '1.079181246', '1.505149978', '0.903089987', '0.903089987', '0.672097858', '0.477121255', '0.84509804', '0.973127854', '1', '0.447158031', '1.77815125', '1.041392685']\n"
     ]
    }
   ],
   "source": [
    "##I am doing the exact same thing as above,\n",
    "#but I am only keeping column 2, because that is the information we need to be shown. \n",
    "\n",
    "import csv\n",
    "\n",
    "output = []\n",
    "f= open('Bloom_etal_2018_Reduced_Dataset.csv', 'r')\n",
    "for line in f:\n",
    "    line = line.strip ('\\n')\n",
    "    cells = line.split(\",\")\n",
    "    output.append( (cells[1]))\n",
    "print(output)\n",
    "#Unfortunately, I do not know how to add these items together right now. \n"
   ]
  },
  {
   "cell_type": "markdown",
   "metadata": {},
   "source": [
    "I am not sure how to add this column together."
   ]
  },
  {
   "cell_type": "code",
   "execution_count": null,
   "metadata": {},
   "outputs": [],
   "source": []
  }
 ],
 "metadata": {
  "kernelspec": {
   "display_name": "Python 3",
   "language": "python",
   "name": "python3"
  },
  "language_info": {
   "codemirror_mode": {
    "name": "ipython",
    "version": 3
   },
   "file_extension": ".py",
   "mimetype": "text/x-python",
   "name": "python",
   "nbconvert_exporter": "python",
   "pygments_lexer": "ipython3",
   "version": "3.9.1"
  }
 },
 "nbformat": 4,
 "nbformat_minor": 4
}
